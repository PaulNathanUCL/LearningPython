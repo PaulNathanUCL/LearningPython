{
 "cells": [
  {
   "cell_type": "markdown",
   "id": "c4e8312d-56fa-476f-983d-185bfe6516df",
   "metadata": {},
   "source": [
    "# Libraries for Scientific Research"
   ]
  },
  {
   "cell_type": "code",
   "execution_count": 1,
   "id": "cf4a76d4-d09b-4d44-8d8c-62b57ff73680",
   "metadata": {},
   "outputs": [],
   "source": [
    "import numpy"
   ]
  },
  {
   "cell_type": "code",
   "execution_count": 3,
   "id": "10308f56-0bc6-436c-b466-89fe82a6671a",
   "metadata": {},
   "outputs": [
    {
     "data": {
      "text/plain": [
       "array([[0., 0., 1., ..., 3., 0., 0.],\n",
       "       [0., 1., 2., ..., 1., 0., 1.],\n",
       "       [0., 1., 1., ..., 2., 1., 1.],\n",
       "       ...,\n",
       "       [0., 1., 1., ..., 1., 1., 1.],\n",
       "       [0., 0., 0., ..., 0., 2., 0.],\n",
       "       [0., 0., 1., ..., 1., 1., 0.]])"
      ]
     },
     "execution_count": 3,
     "metadata": {},
     "output_type": "execute_result"
    }
   ],
   "source": [
    "numpy.loadtxt(fname='data/inflammation-01.csv',delimiter=',')"
   ]
  },
  {
   "cell_type": "code",
   "execution_count": 4,
   "id": "d4eb4af0-0ddc-4d6a-b3f7-f34e38f4be3f",
   "metadata": {},
   "outputs": [],
   "source": [
    "arthritis =numpy.loadtxt(fname='data/inflammation-01.csv',delimiter=',')"
   ]
  },
  {
   "cell_type": "code",
   "execution_count": 5,
   "id": "e51903d4-dcde-4e94-91d3-24303de05231",
   "metadata": {},
   "outputs": [
    {
     "name": "stdout",
     "output_type": "stream",
     "text": [
      "[[0. 0. 1. ... 3. 0. 0.]\n",
      " [0. 1. 2. ... 1. 0. 1.]\n",
      " [0. 1. 1. ... 2. 1. 1.]\n",
      " ...\n",
      " [0. 1. 1. ... 1. 1. 1.]\n",
      " [0. 0. 0. ... 0. 2. 0.]\n",
      " [0. 0. 1. ... 1. 1. 0.]]\n"
     ]
    }
   ],
   "source": [
    "print(arthritis)"
   ]
  },
  {
   "cell_type": "code",
   "execution_count": 6,
   "id": "4d3e0c27-909b-4358-8fa7-0b0841829ae0",
   "metadata": {},
   "outputs": [
    {
     "name": "stdout",
     "output_type": "stream",
     "text": [
      "<class 'numpy.ndarray'>\n"
     ]
    }
   ],
   "source": [
    "print(type(arthritis))"
   ]
  },
  {
   "cell_type": "markdown",
   "id": "090f6cdb-53db-42c2-8a0e-ed04cabdc2b3",
   "metadata": {},
   "source": [
    "# Attributes"
   ]
  },
  {
   "cell_type": "code",
   "execution_count": 7,
   "id": "aaee83b7-fa3b-4a07-853a-a4989f3b74d4",
   "metadata": {},
   "outputs": [
    {
     "name": "stdout",
     "output_type": "stream",
     "text": [
      "float64\n",
      "(60, 40)\n"
     ]
    }
   ],
   "source": [
    "print(arthritis.dtype)\n",
    "print(arthritis.shape)"
   ]
  },
  {
   "cell_type": "code",
   "execution_count": 9,
   "id": "96fe3ce7-6e57-46f0-8179-2c256e8cb7dc",
   "metadata": {},
   "outputs": [
    {
     "name": "stdout",
     "output_type": "stream",
     "text": [
      "first value in arthritis: 0.0\n"
     ]
    }
   ],
   "source": [
    "print(\"first value in arthritis:\", arthritis[0,0])"
   ]
  },
  {
   "cell_type": "code",
   "execution_count": 10,
   "id": "ae844310-b426-4ed0-bc72-800d4c14a558",
   "metadata": {},
   "outputs": [
    {
     "name": "stdout",
     "output_type": "stream",
     "text": [
      "middle value: 13.0\n"
     ]
    }
   ],
   "source": [
    "print(\"middle value:\", arthritis[30,20])"
   ]
  },
  {
   "cell_type": "code",
   "execution_count": 11,
   "id": "49921b9c-1e81-4a63-aef4-49bd38cfc662",
   "metadata": {},
   "outputs": [
    {
     "name": "stdout",
     "output_type": "stream",
     "text": [
      "[[0. 0. 1. 3. 1. 2. 4. 7. 8. 3.]\n",
      " [0. 1. 2. 1. 2. 1. 3. 2. 2. 6.]\n",
      " [0. 1. 1. 3. 3. 2. 6. 2. 5. 9.]\n",
      " [0. 0. 2. 0. 4. 2. 2. 1. 6. 7.]]\n"
     ]
    }
   ],
   "source": [
    "print(arthritis[0:4, 0:10])"
   ]
  },
  {
   "cell_type": "code",
   "execution_count": 12,
   "id": "1d882c51-9b02-4050-a6ad-1ddf469624b3",
   "metadata": {},
   "outputs": [
    {
     "name": "stdout",
     "output_type": "stream",
     "text": [
      "[[2. 3. 0. 0.]\n",
      " [1. 1. 0. 1.]\n",
      " [2. 2. 1. 1.]]\n"
     ]
    }
   ],
   "source": [
    "corner=arthritis[:3,36:]\n",
    "print(corner)"
   ]
  },
  {
   "cell_type": "markdown",
   "id": "ce611ef4-d3ce-4acf-a95b-d4e7ebf67158",
   "metadata": {},
   "source": [
    "# Exercise"
   ]
  },
  {
   "cell_type": "code",
   "execution_count": 13,
   "id": "cf213579-bf6e-4bb4-a529-eea3aff494fb",
   "metadata": {},
   "outputs": [
    {
     "data": {
      "text/plain": [
       "'xy'"
      ]
     },
     "execution_count": 13,
     "metadata": {},
     "output_type": "execute_result"
    }
   ],
   "source": [
    "\"oxygen\"[1:3]"
   ]
  },
  {
   "cell_type": "markdown",
   "id": "cbb48af1-582f-4963-b164-85c7d5d1ec53",
   "metadata": {},
   "source": [
    "# Operations"
   ]
  },
  {
   "cell_type": "code",
   "execution_count": 14,
   "id": "fa447fde-a51a-4781-9d5b-96fbe50c39fe",
   "metadata": {},
   "outputs": [],
   "source": [
    "double_arthritis= arthritis*2"
   ]
  },
  {
   "cell_type": "code",
   "execution_count": 15,
   "id": "d58cf58d-c77a-42c5-80a8-7427bac8f9d4",
   "metadata": {},
   "outputs": [
    {
     "name": "stdout",
     "output_type": "stream",
     "text": [
      "original\n",
      "[[2. 3. 0. 0.]\n",
      " [1. 1. 0. 1.]\n",
      " [2. 2. 1. 1.]]\n",
      "double\n",
      "[[4. 6. 0. 0.]\n",
      " [2. 2. 0. 2.]\n",
      " [4. 4. 2. 2.]]\n"
     ]
    }
   ],
   "source": [
    "print(\"original\")\n",
    "print(arthritis[:3,36:])\n",
    "print(\"double\")\n",
    "print(double_arthritis[:3,36:])"
   ]
  },
  {
   "cell_type": "code",
   "execution_count": 16,
   "id": "98278e52-5d71-4fec-9484-f53f5f53a6d3",
   "metadata": {},
   "outputs": [
    {
     "name": "stdout",
     "output_type": "stream",
     "text": [
      "[[6. 9. 0. 0.]\n",
      " [3. 3. 0. 3.]\n",
      " [6. 6. 3. 3.]]\n"
     ]
    }
   ],
   "source": [
    "triple_arthritis = double_arthritis+arthritis\n",
    "print(triple_arthritis[:3,36:])"
   ]
  },
  {
   "cell_type": "markdown",
   "id": "548ea687-cc3f-4a92-8888-912d3ab1567a",
   "metadata": {},
   "source": [
    "# Methods"
   ]
  },
  {
   "cell_type": "code",
   "execution_count": 17,
   "id": "2f8f0b18-41ac-4714-b11c-d7ebb4c5c8fe",
   "metadata": {},
   "outputs": [
    {
     "name": "stdout",
     "output_type": "stream",
     "text": [
      "6.14875\n"
     ]
    }
   ],
   "source": [
    "print(arthritis.mean())"
   ]
  },
  {
   "cell_type": "code",
   "execution_count": 18,
   "id": "ed8068b1-22bd-4e5d-943b-9caaaedae795",
   "metadata": {},
   "outputs": [
    {
     "name": "stdout",
     "output_type": "stream",
     "text": [
      "maximum inflammation: 20.0\n",
      "minimum inflammation: 0.0\n",
      "standard deviation: 4.613833197118566\n"
     ]
    }
   ],
   "source": [
    "print(\"maximum inflammation:\", arthritis.max())\n",
    "print(\"minimum inflammation:\", arthritis.min())\n",
    "print(\"standard deviation:\", arthritis.std())"
   ]
  },
  {
   "cell_type": "code",
   "execution_count": 19,
   "id": "00838993-b848-4989-a1a3-67fecd4312b7",
   "metadata": {},
   "outputs": [
    {
     "data": {
      "text/plain": [
       "2400"
      ]
     },
     "execution_count": 19,
     "metadata": {},
     "output_type": "execute_result"
    }
   ],
   "source": [
    "arthritis.size"
   ]
  },
  {
   "cell_type": "code",
   "execution_count": 20,
   "id": "2c36cdb4-c87a-40ef-9f1c-ff3653501365",
   "metadata": {},
   "outputs": [
    {
     "name": "stdout",
     "output_type": "stream",
     "text": [
      "maximum inflammation for patient 0: 18.0\n"
     ]
    }
   ],
   "source": [
    "patient_0= arthritis[0, :]\n",
    "print(\"maximum inflammation for patient 0:\", patient_0.max())"
   ]
  },
  {
   "cell_type": "code",
   "execution_count": 21,
   "id": "13d81ffe-8f05-4c20-8104-add9db59d016",
   "metadata": {},
   "outputs": [
    {
     "name": "stdout",
     "output_type": "stream",
     "text": [
      "[18. 18. 19. 17. 17. 18. 17. 20. 17. 18. 18. 18. 17. 16. 17. 18. 19. 19.\n",
      " 17. 19. 19. 16. 17. 15. 17. 17. 18. 17. 20. 17. 16. 19. 15. 15. 19. 17.\n",
      " 16. 17. 19. 16. 18. 19. 16. 19. 18. 16. 19. 15. 16. 18. 14. 20. 17. 15.\n",
      " 17. 16. 17. 19. 18. 18.]\n"
     ]
    }
   ],
   "source": [
    "print(arthritis.max(axis=1))"
   ]
  },
  {
   "cell_type": "code",
   "execution_count": 22,
   "id": "dc861800-37b6-4631-87ca-4a6c3875b928",
   "metadata": {},
   "outputs": [
    {
     "name": "stdout",
     "output_type": "stream",
     "text": [
      "[ 0.  1.  2.  3.  4.  5.  6.  7.  8.  9. 10. 11. 12. 13. 14. 15. 16. 17.\n",
      " 18. 19. 20. 19. 18. 17. 16. 15. 14. 13. 12. 11. 10.  9.  8.  7.  6.  5.\n",
      "  4.  3.  2.  1.]\n"
     ]
    }
   ],
   "source": [
    "print(arthritis.max(axis=0))"
   ]
  },
  {
   "cell_type": "code",
   "execution_count": 23,
   "id": "48ac1c7b-7344-4750-9d61-6570770d1897",
   "metadata": {},
   "outputs": [
    {
     "name": "stdout",
     "output_type": "stream",
     "text": [
      "(60,)\n",
      "(40,)\n"
     ]
    }
   ],
   "source": [
    "print(arthritis.max(axis=1).shape)\n",
    "print(arthritis.max(axis=0).shape)"
   ]
  },
  {
   "cell_type": "code",
   "execution_count": 25,
   "id": "e7667c9a-4271-42e2-a75d-baf3a9bced1c",
   "metadata": {},
   "outputs": [
    {
     "name": "stdout",
     "output_type": "stream",
     "text": [
      "the average standard deviation:\n",
      "4.579294680644961\n"
     ]
    }
   ],
   "source": [
    "print(\"the average standard deviation:\")\n",
    "print(arthritis.std(axis=1).mean())"
   ]
  },
  {
   "cell_type": "code",
   "execution_count": null,
   "id": "027d7a2d-aff8-44e6-8a90-e9e1d5408271",
   "metadata": {},
   "outputs": [],
   "source": []
  }
 ],
 "metadata": {
  "kernelspec": {
   "display_name": "Python 3 (ipykernel)",
   "language": "python",
   "name": "python3"
  },
  "language_info": {
   "codemirror_mode": {
    "name": "ipython",
    "version": 3
   },
   "file_extension": ".py",
   "mimetype": "text/x-python",
   "name": "python",
   "nbconvert_exporter": "python",
   "pygments_lexer": "ipython3",
   "version": "3.9.12"
  }
 },
 "nbformat": 4,
 "nbformat_minor": 5
}
