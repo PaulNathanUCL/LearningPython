{
 "cells": [
  {
   "cell_type": "markdown",
   "id": "eebdf4c2-8847-46e9-bafc-c1c03cca6186",
   "metadata": {},
   "source": [
    "# Variables\n",
    "This is the first notebook of this course\n",
    "\n",
    "We **are** learning ~~matlab~~ *python* using _jupyter_ notebooks "
   ]
  },
  {
   "cell_type": "code",
   "execution_count": 2,
   "id": "4eb5f941-768d-4d2f-99a5-c6d520919c36",
   "metadata": {},
   "outputs": [],
   "source": [
    "weight_kg = 55"
   ]
  },
  {
   "cell_type": "code",
   "execution_count": 4,
   "id": "8edaa9b6-aeb0-49ae-babc-f94a7a8e798f",
   "metadata": {},
   "outputs": [
    {
     "name": "stdout",
     "output_type": "stream",
     "text": [
      "55\n"
     ]
    }
   ],
   "source": [
    "print(weight_kg)"
   ]
  },
  {
   "cell_type": "code",
   "execution_count": 5,
   "id": "bd5d0450-0585-49d3-b3b9-f8b478f2e3a6",
   "metadata": {},
   "outputs": [
    {
     "name": "stdout",
     "output_type": "stream",
     "text": [
      "weight in pounds 121.00000000000001\n"
     ]
    }
   ],
   "source": [
    "print(\"weight in pounds\", 2.2*weight_kg)"
   ]
  },
  {
   "cell_type": "code",
   "execution_count": 6,
   "id": "e7d04c07-9a07-4440-b0ed-525bd039fc8b",
   "metadata": {},
   "outputs": [
    {
     "name": "stdout",
     "output_type": "stream",
     "text": [
      "weight in kg 55  and in lbs 121.00000000000001\n"
     ]
    }
   ],
   "source": [
    "weight_pounds=2.2*weight_kg\n",
    "print(\"weight in kg\", weight_kg, \" and in lbs\", weight_pounds)"
   ]
  },
  {
   "cell_type": "code",
   "execution_count": 7,
   "id": "c2dd39ff-c45a-49f4-8650-9b39d0be25f3",
   "metadata": {},
   "outputs": [
    {
     "name": "stdout",
     "output_type": "stream",
     "text": [
      "weight in kg 1000  and in lbs 121.00000000000001\n"
     ]
    }
   ],
   "source": [
    "weight_kg = 1000\n",
    "print(\"weight in kg\", weight_kg, \" and in lbs\", weight_pounds)"
   ]
  },
  {
   "cell_type": "code",
   "execution_count": null,
   "id": "9417ceae-012c-47cb-8a55-ab5cb2f5c019",
   "metadata": {},
   "outputs": [],
   "source": []
  }
 ],
 "metadata": {
  "kernelspec": {
   "display_name": "Python 3 (ipykernel)",
   "language": "python",
   "name": "python3"
  },
  "language_info": {
   "codemirror_mode": {
    "name": "ipython",
    "version": 3
   },
   "file_extension": ".py",
   "mimetype": "text/x-python",
   "name": "python",
   "nbconvert_exporter": "python",
   "pygments_lexer": "ipython3",
   "version": "3.9.12"
  }
 },
 "nbformat": 4,
 "nbformat_minor": 5
}
