{
 "cells": [
  {
   "cell_type": "code",
   "execution_count": 1,
   "id": "3e008096-43d3-41fd-89b0-1144986ec73d",
   "metadata": {},
   "outputs": [
    {
     "name": "stdout",
     "output_type": "stream",
     "text": [
      "Odds are: [1, 3, 5, 7]\n"
     ]
    }
   ],
   "source": [
    "odds = [1, 3, 5, 7]\n",
    "print(\"Odds are:\", odds)"
   ]
  },
  {
   "cell_type": "code",
   "execution_count": 2,
   "id": "ea6d808c-567c-4a90-83fb-420575c7739e",
   "metadata": {},
   "outputs": [
    {
     "name": "stdout",
     "output_type": "stream",
     "text": [
      "First element is: 1\n"
     ]
    }
   ],
   "source": [
    "print(\"First element is:\", odds[0])"
   ]
  },
  {
   "cell_type": "code",
   "execution_count": 3,
   "id": "4d171f84-33ca-45d7-acf0-d54667fe15e1",
   "metadata": {},
   "outputs": [
    {
     "name": "stdout",
     "output_type": "stream",
     "text": [
      "last element is: 7\n"
     ]
    }
   ],
   "source": [
    "print(\"last element is:\", odds[-1])"
   ]
  },
  {
   "cell_type": "code",
   "execution_count": 10,
   "id": "acb4e628-42d9-4330-9b1b-3b7d859121f1",
   "metadata": {},
   "outputs": [
    {
     "name": "stdout",
     "output_type": "stream",
     "text": [
      "every second element: [1, 5]\n"
     ]
    }
   ],
   "source": [
    "print(\"every second element:\", odds[0::2])"
   ]
  },
  {
   "cell_type": "code",
   "execution_count": 13,
   "id": "2a1928bb-0814-42d1-b318-e10aa65545c6",
   "metadata": {},
   "outputs": [
    {
     "name": "stdout",
     "output_type": "stream",
     "text": [
      "names are originally ['Curie', 'Darwing', 'Turing']\n",
      "names are finally ['Curie', 'Darwin', 'Turing']\n"
     ]
    }
   ],
   "source": [
    "names = [\"Curie\", \"Darwing\", \"Turing\"]\n",
    "print(\"names are originally\", names)\n",
    "names[1]= \"Darwin\"\n",
    "print(\"names are finally\", names)"
   ]
  },
  {
   "cell_type": "code",
   "execution_count": 14,
   "id": "7fbedca2-fc7f-4c2c-b654-c0b65899758e",
   "metadata": {},
   "outputs": [
    {
     "name": "stdout",
     "output_type": "stream",
     "text": [
      "First letter in name: D\n"
     ]
    }
   ],
   "source": [
    "name = \"Darwin\"\n",
    "print(\"First letter in name:\", name[0])"
   ]
  },
  {
   "cell_type": "code",
   "execution_count": 15,
   "id": "2ff06b64-29a2-4221-9a98-925504109e01",
   "metadata": {},
   "outputs": [
    {
     "ename": "TypeError",
     "evalue": "'str' object does not support item assignment",
     "output_type": "error",
     "traceback": [
      "\u001b[0;31m---------------------------------------------------------------------------\u001b[0m",
      "\u001b[0;31mTypeError\u001b[0m                                 Traceback (most recent call last)",
      "Input \u001b[0;32mIn [15]\u001b[0m, in \u001b[0;36m<cell line: 1>\u001b[0;34m()\u001b[0m\n\u001b[0;32m----> 1\u001b[0m name[\u001b[38;5;241m0\u001b[39m] \u001b[38;5;241m=\u001b[39m \u001b[38;5;124m\"\u001b[39m\u001b[38;5;124md\u001b[39m\u001b[38;5;124m\"\u001b[39m\n",
      "\u001b[0;31mTypeError\u001b[0m: 'str' object does not support item assignment"
     ]
    }
   ],
   "source": [
    "name[0] = \"d\""
   ]
  },
  {
   "cell_type": "code",
   "execution_count": 16,
   "id": "b3aeec93-3f61-47ce-bad4-5184b0009212",
   "metadata": {},
   "outputs": [],
   "source": [
    "x=[\n",
    "   [\"pepper\", \"courgette\", \"onion\"],\n",
    "    [\"cabbage\", \"lettuce\", \"garlic\"],\n",
    "    [\"apple\", \"pear\", \"banana\"]   \n",
    "]"
   ]
  },
  {
   "cell_type": "code",
   "execution_count": 17,
   "id": "cd66b65d-d24b-4ea7-8dc5-5ceecbfdeadf",
   "metadata": {},
   "outputs": [
    {
     "name": "stdout",
     "output_type": "stream",
     "text": [
      "['pepper', 'courgette', 'onion']\n"
     ]
    }
   ],
   "source": [
    "print(x[0])"
   ]
  },
  {
   "cell_type": "code",
   "execution_count": 20,
   "id": "17763c3e-09e2-4b3b-be14-c93f6f3fb46c",
   "metadata": {},
   "outputs": [
    {
     "name": "stdout",
     "output_type": "stream",
     "text": [
      "courgette\n"
     ]
    }
   ],
   "source": [
    "print(x[0][1])"
   ]
  },
  {
   "cell_type": "code",
   "execution_count": 21,
   "id": "cc83c2f7-0573-4092-9a6c-0d137076f33c",
   "metadata": {},
   "outputs": [],
   "source": [
    "sample_ages = [10, 12.5, \"Unknown\"]"
   ]
  },
  {
   "cell_type": "code",
   "execution_count": 23,
   "id": "205d7ac7-b5e1-4977-a974-fe9329b62ce9",
   "metadata": {},
   "outputs": [
    {
     "name": "stdout",
     "output_type": "stream",
     "text": [
      "<class 'int'>\n",
      "<class 'float'>\n",
      "<class 'str'>\n"
     ]
    }
   ],
   "source": [
    "print(type(sample_ages[0]))\n",
    "print(type(sample_ages[1]))\n",
    "print(type(sample_ages[2]))"
   ]
  },
  {
   "cell_type": "code",
   "execution_count": 24,
   "id": "c0958011-016e-496b-8ea5-f920a3f5d6cd",
   "metadata": {},
   "outputs": [],
   "source": [
    "odds.append(11)"
   ]
  },
  {
   "cell_type": "code",
   "execution_count": 25,
   "id": "e6b31ed4-8f93-4287-a4e1-5f40e8e52d16",
   "metadata": {},
   "outputs": [
    {
     "name": "stdout",
     "output_type": "stream",
     "text": [
      "[1, 3, 5, 7, 11]\n"
     ]
    }
   ],
   "source": [
    "print(odds)"
   ]
  },
  {
   "cell_type": "code",
   "execution_count": 26,
   "id": "95715b77-9203-4f01-82ce-bdf6f43789e9",
   "metadata": {},
   "outputs": [
    {
     "name": "stdout",
     "output_type": "stream",
     "text": [
      "Odds after removal [3, 5, 7, 11]\n",
      "removed_element 1\n"
     ]
    }
   ],
   "source": [
    "removed_element=odds.pop(0)\n",
    "print(\"Odds after removal\", odds)\n",
    "print(\"removed_element\", removed_element)"
   ]
  },
  {
   "cell_type": "code",
   "execution_count": 27,
   "id": "165c74c5-bd9d-4573-9496-e876409c6544",
   "metadata": {},
   "outputs": [
    {
     "name": "stdout",
     "output_type": "stream",
     "text": [
      "None\n"
     ]
    }
   ],
   "source": [
    "print(odds.reverse())"
   ]
  },
  {
   "cell_type": "code",
   "execution_count": 28,
   "id": "5ea69184-777c-4d80-96ce-7bcb4b1618e3",
   "metadata": {},
   "outputs": [
    {
     "data": {
      "text/plain": [
       "[11, 7, 5, 3]"
      ]
     },
     "execution_count": 28,
     "metadata": {},
     "output_type": "execute_result"
    }
   ],
   "source": [
    "odds"
   ]
  },
  {
   "cell_type": "code",
   "execution_count": 29,
   "id": "bc32d10e-18a8-455c-a14b-b534715ac6d3",
   "metadata": {},
   "outputs": [],
   "source": [
    "string_for_slicing=\"observation date: 02-Feb-2013\""
   ]
  },
  {
   "cell_type": "code",
   "execution_count": 33,
   "id": "0eb50984-3097-4922-ab0c-4f5e637cbf56",
   "metadata": {},
   "outputs": [
    {
     "name": "stdout",
     "output_type": "stream",
     "text": [
      "Output: 2013\n"
     ]
    }
   ],
   "source": [
    "print(\"Output:\", string_for_slicing[-4:])"
   ]
  },
  {
   "cell_type": "code",
   "execution_count": null,
   "id": "3d80f19a-9937-488b-9215-a042e132caf4",
   "metadata": {},
   "outputs": [],
   "source": []
  },
  {
   "cell_type": "code",
   "execution_count": 34,
   "id": "0c488fbe-cdf9-447e-ac6d-c5c31c676fc2",
   "metadata": {},
   "outputs": [],
   "source": [
    "beatles = \"In an octopus's garden in the shade\""
   ]
  },
  {
   "cell_type": "code",
   "execution_count": 37,
   "id": "fdb8ecdd-3cc3-4605-bdf6-89434344bbf8",
   "metadata": {},
   "outputs": [],
   "source": [
    "odd_beatles = beatles[0::2]"
   ]
  },
  {
   "cell_type": "code",
   "execution_count": 38,
   "id": "ba40000f-0dcf-4b2e-a8c3-edf460f69ee4",
   "metadata": {},
   "outputs": [
    {
     "name": "stdout",
     "output_type": "stream",
     "text": [
      "I notpssgre ntesae\n"
     ]
    }
   ],
   "source": [
    "print(odd_beatles)"
   ]
  },
  {
   "cell_type": "code",
   "execution_count": 39,
   "id": "19a6e997-9aa4-46ff-a2c9-2dcf2405c629",
   "metadata": {},
   "outputs": [
    {
     "name": "stdout",
     "output_type": "stream",
     "text": [
      "[2, 4, 6, 8, 10, 2, 4, 6, 8, 10]\n"
     ]
    }
   ],
   "source": [
    "counts=[2, 4, 6, 8, 10]\n",
    "print(counts*2)"
   ]
  },
  {
   "cell_type": "code",
   "execution_count": null,
   "id": "b004e462-1f0a-46af-af50-13c53de33ce5",
   "metadata": {},
   "outputs": [],
   "source": []
  }
 ],
 "metadata": {
  "kernelspec": {
   "display_name": "Python 3 (ipykernel)",
   "language": "python",
   "name": "python3"
  },
  "language_info": {
   "codemirror_mode": {
    "name": "ipython",
    "version": 3
   },
   "file_extension": ".py",
   "mimetype": "text/x-python",
   "name": "python",
   "nbconvert_exporter": "python",
   "pygments_lexer": "ipython3",
   "version": "3.9.12"
  }
 },
 "nbformat": 4,
 "nbformat_minor": 5
}
