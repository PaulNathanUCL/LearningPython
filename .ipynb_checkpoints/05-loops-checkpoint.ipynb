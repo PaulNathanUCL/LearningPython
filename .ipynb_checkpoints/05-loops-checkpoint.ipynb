{
 "cells": [
  {
   "cell_type": "markdown",
   "id": "2965bd4e-6989-468a-9e50-93764b292bf3",
   "metadata": {},
   "source": [
    "# Loops"
   ]
  },
  {
   "cell_type": "code",
   "execution_count": 1,
   "id": "7d299a37-fcd6-4dec-a6cd-884bf16195af",
   "metadata": {},
   "outputs": [],
   "source": [
    "odds = [1, 3, 5, 7]"
   ]
  },
  {
   "cell_type": "code",
   "execution_count": 2,
   "id": "1c4622cc-dcca-4b8a-8be9-acf78b833117",
   "metadata": {},
   "outputs": [
    {
     "name": "stdout",
     "output_type": "stream",
     "text": [
      "1\n",
      "3\n",
      "5\n",
      "7\n"
     ]
    }
   ],
   "source": [
    "print(odds[0])\n",
    "print(odds[1])\n",
    "print(odds[2])\n",
    "print(odds[3])"
   ]
  },
  {
   "cell_type": "code",
   "execution_count": 11,
   "id": "a6a9b76c-9a78-4994-89c7-11dc17598abe",
   "metadata": {},
   "outputs": [
    {
     "name": "stdout",
     "output_type": "stream",
     "text": [
      "1\n",
      "3\n",
      "5\n",
      "7\n",
      "9\n",
      "11\n"
     ]
    }
   ],
   "source": [
    "odds = [1,3,5,7, 9, 11]\n",
    "for num in odds:\n",
    "    print(num)"
   ]
  },
  {
   "cell_type": "code",
   "execution_count": 17,
   "id": "f2c10548-b1f4-4188-ac74-2f5795daad30",
   "metadata": {},
   "outputs": [
    {
     "name": "stdout",
     "output_type": "stream",
     "text": [
      "a\n",
      "b\n",
      "c\n",
      "d\n"
     ]
    }
   ],
   "source": [
    "letters = [\"a\",\"b\",\"c\",\"d\"]\n",
    "for letter in letters:\n",
    "    print(letter)"
   ]
  },
  {
   "cell_type": "code",
   "execution_count": 25,
   "id": "2fad5112-236b-46e3-8e72-ec9e565f932d",
   "metadata": {},
   "outputs": [
    {
     "name": "stdout",
     "output_type": "stream",
     "text": [
      "There are  3  names in the list\n"
     ]
    }
   ],
   "source": [
    "length = 0\n",
    "names = [\"Curie\", \"Darwin\", \"Turing\"]\n",
    "for name in names:\n",
    "    length = length +1\n",
    "print(\"There are \", length, \" names in the list\")"
   ]
  },
  {
   "cell_type": "code",
   "execution_count": 26,
   "id": "3ca50305-f364-4cfd-8da3-c72b9e24177d",
   "metadata": {},
   "outputs": [
    {
     "data": {
      "text/plain": [
       "3"
      ]
     },
     "execution_count": 26,
     "metadata": {},
     "output_type": "execute_result"
    }
   ],
   "source": [
    "len(names)"
   ]
  },
  {
   "cell_type": "code",
   "execution_count": 28,
   "id": "551bd068-e6d7-42c8-a15c-aecd20e68696",
   "metadata": {},
   "outputs": [
    {
     "name": "stdout",
     "output_type": "stream",
     "text": [
      "Rosalind\n",
      "Curie\n",
      "Darwin\n",
      "Turing\n",
      "After the loop, name is  Turing\n"
     ]
    }
   ],
   "source": [
    "name = \"Rosalind\"\n",
    "print(name)\n",
    "for name in names:\n",
    "    print(name)\n",
    "print(\"After the loop, name is \", name)"
   ]
  },
  {
   "cell_type": "code",
   "execution_count": 29,
   "id": "d7c4b359-3ef1-40cf-9da3-49c357d854ea",
   "metadata": {},
   "outputs": [
    {
     "name": "stdout",
     "output_type": "stream",
     "text": [
      "o\n",
      "x\n",
      "y\n",
      "g\n",
      "e\n",
      "n\n"
     ]
    }
   ],
   "source": [
    "word = \"oxygen\"\n",
    "for char in word:\n",
    "    print(char)\n"
   ]
  },
  {
   "cell_type": "code",
   "execution_count": null,
   "id": "9598a16d-a34a-40c3-bbea-464f21baa308",
   "metadata": {},
   "outputs": [],
   "source": []
  }
 ],
 "metadata": {
  "kernelspec": {
   "display_name": "Python 3 (ipykernel)",
   "language": "python",
   "name": "python3"
  },
  "language_info": {
   "codemirror_mode": {
    "name": "ipython",
    "version": 3
   },
   "file_extension": ".py",
   "mimetype": "text/x-python",
   "name": "python",
   "nbconvert_exporter": "python",
   "pygments_lexer": "ipython3",
   "version": "3.9.12"
  }
 },
 "nbformat": 4,
 "nbformat_minor": 5
}
