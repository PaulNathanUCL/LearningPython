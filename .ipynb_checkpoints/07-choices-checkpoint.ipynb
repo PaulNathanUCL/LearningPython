{
 "cells": [
  {
   "cell_type": "code",
   "execution_count": 1,
   "id": "f69d471a-1462-4fe7-889d-2c7586173646",
   "metadata": {},
   "outputs": [
    {
     "name": "stdout",
     "output_type": "stream",
     "text": [
      "Not greater than 100\n",
      "Done\n"
     ]
    }
   ],
   "source": [
    "num = 37\n",
    "if num > 100:\n",
    "    print(\"Greater than 100\")\n",
    "else:\n",
    "    print(\"Not greater than 100\")\n",
    "    \n",
    "print(\"Done\")"
   ]
  },
  {
   "cell_type": "code",
   "execution_count": 3,
   "id": "ef63e3e5-2dd6-424b-bf03-3f3dd29d514d",
   "metadata": {},
   "outputs": [
    {
     "name": "stdout",
     "output_type": "stream",
     "text": [
      "Greater than 100\n",
      "Done\n"
     ]
    }
   ],
   "source": [
    "num = 101\n",
    "if num > 100:\n",
    "    print(\"Greater than 100\")\n",
    "else:\n",
    "    print(\"Not greater than 100\")\n",
    "    \n",
    "print(\"Done\")"
   ]
  },
  {
   "cell_type": "code",
   "execution_count": 4,
   "id": "ea02835b-2bc4-43d3-b214-86d862e25449",
   "metadata": {},
   "outputs": [
    {
     "data": {
      "text/plain": [
       "True"
      ]
     },
     "execution_count": 4,
     "metadata": {},
     "output_type": "execute_result"
    }
   ],
   "source": [
    "2 < 4"
   ]
  },
  {
   "cell_type": "code",
   "execution_count": 5,
   "id": "47c51f67-3e67-4596-9bdb-58af4ac4ed11",
   "metadata": {},
   "outputs": [
    {
     "data": {
      "text/plain": [
       "True"
      ]
     },
     "execution_count": 5,
     "metadata": {},
     "output_type": "execute_result"
    }
   ],
   "source": [
    "5<=5"
   ]
  },
  {
   "cell_type": "code",
   "execution_count": 6,
   "id": "598f8e62-adee-4814-96e3-b33e74e64747",
   "metadata": {},
   "outputs": [
    {
     "data": {
      "text/plain": [
       "True"
      ]
     },
     "execution_count": 6,
     "metadata": {},
     "output_type": "execute_result"
    }
   ],
   "source": [
    "6>=5"
   ]
  },
  {
   "cell_type": "code",
   "execution_count": 7,
   "id": "5f2d3c20-0c18-4b8c-bf2c-9655926a4e72",
   "metadata": {},
   "outputs": [
    {
     "data": {
      "text/plain": [
       "False"
      ]
     },
     "execution_count": 7,
     "metadata": {},
     "output_type": "execute_result"
    }
   ],
   "source": [
    "2==4"
   ]
  },
  {
   "cell_type": "code",
   "execution_count": 8,
   "id": "c9aa4d70-fb51-4f59-9c60-41cf71d15bbc",
   "metadata": {},
   "outputs": [
    {
     "data": {
      "text/plain": [
       "False"
      ]
     },
     "execution_count": 8,
     "metadata": {},
     "output_type": "execute_result"
    }
   ],
   "source": [
    "name = \"Curie\"\n",
    "second_name= \"Turing\"\n",
    "name == second_name"
   ]
  },
  {
   "cell_type": "code",
   "execution_count": 9,
   "id": "b20a5aea-e463-4d06-8d86-69dfe585d467",
   "metadata": {},
   "outputs": [
    {
     "data": {
      "text/plain": [
       "True"
      ]
     },
     "execution_count": 9,
     "metadata": {},
     "output_type": "execute_result"
    }
   ],
   "source": [
    "name <=second_name"
   ]
  },
  {
   "cell_type": "code",
   "execution_count": 10,
   "id": "1e1f2897-eb39-454a-a38f-6c216270d198",
   "metadata": {},
   "outputs": [
    {
     "data": {
      "text/plain": [
       "True"
      ]
     },
     "execution_count": 10,
     "metadata": {},
     "output_type": "execute_result"
    }
   ],
   "source": [
    "name != second_name"
   ]
  },
  {
   "cell_type": "code",
   "execution_count": 11,
   "id": "79631043-00da-404b-8276-4a9b9ffe0820",
   "metadata": {},
   "outputs": [
    {
     "name": "stdout",
     "output_type": "stream",
     "text": [
      "at least one test is true\n"
     ]
    }
   ],
   "source": [
    "if (1<0) or (1>=0):\n",
    "    print(\"at least one test is true\")"
   ]
  },
  {
   "cell_type": "code",
   "execution_count": 12,
   "id": "17a44bd8-b49f-4455-b4d1-3c49ee185072",
   "metadata": {},
   "outputs": [],
   "source": [
    "import numpy as np"
   ]
  },
  {
   "cell_type": "code",
   "execution_count": 14,
   "id": "37f80ab8-f594-4f2e-85a0-5235b9dffdbd",
   "metadata": {},
   "outputs": [],
   "source": [
    "data = np.loadtxt(\"data/inflammation-01.csv\", delimiter=\",\")"
   ]
  },
  {
   "cell_type": "code",
   "execution_count": 16,
   "id": "136189c2-c82c-49ae-9493-ef6ac9802479",
   "metadata": {},
   "outputs": [
    {
     "name": "stdout",
     "output_type": "stream",
     "text": [
      "suspicious looking maximal\n"
     ]
    }
   ],
   "source": [
    "max_inflammation_0=data.max(axis=0)[0]\n",
    "max_inflammation_20=data.max(axis=0)[20]\n",
    "\n",
    "if max_inflammation_0 == 0 and max_inflammation_20 == 20:\n",
    "    print(\"suspicious looking maximal\")"
   ]
  },
  {
   "cell_type": "code",
   "execution_count": 17,
   "id": "d7c3853b-407a-48fa-8ed7-7acd41118cb8",
   "metadata": {},
   "outputs": [
    {
     "name": "stdout",
     "output_type": "stream",
     "text": [
      "suspicious looking maximal\n"
     ]
    }
   ],
   "source": [
    "if max_inflammation_0 == 0 and max_inflammation_20 == 20:\n",
    "    print(\"suspicious looking maximal\")\n",
    "elif data.min(axis=0).sum() == 0:\n",
    "    print(\"Minima add up to zero!\")\n",
    "else:\n",
    "    print(\"Seems OK!\")"
   ]
  },
  {
   "cell_type": "code",
   "execution_count": null,
   "id": "28da4170-409c-4661-acfa-1333468d4971",
   "metadata": {},
   "outputs": [],
   "source": []
  }
 ],
 "metadata": {
  "kernelspec": {
   "display_name": "Python 3 (ipykernel)",
   "language": "python",
   "name": "python3"
  },
  "language_info": {
   "codemirror_mode": {
    "name": "ipython",
    "version": 3
   },
   "file_extension": ".py",
   "mimetype": "text/x-python",
   "name": "python",
   "nbconvert_exporter": "python",
   "pygments_lexer": "ipython3",
   "version": "3.9.12"
  }
 },
 "nbformat": 4,
 "nbformat_minor": 5
}
